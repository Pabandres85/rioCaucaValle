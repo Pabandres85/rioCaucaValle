{
 "cells": [
  {
   "cell_type": "markdown",
   "id": "83217007",
   "metadata": {},
   "source": [
    "# 🧼 Limpieza de Datos - Calidad del Agua del Río Cauca\n",
    "\n",
    "Este notebook documenta el proceso de limpieza del dataset descargado desde [datos.gov.co](https://www.datos.gov.co/), específicamente sobre la calidad del agua del Río Cauca.\n",
    "\n",
    "## Objetivos:\n",
    "- Estandarizar columnas\n",
    "- Eliminar columnas completamente vacías\n",
    "- Convertir fechas\n",
    "- Limpiar y convertir columnas numéricas con símbolos, notación científica o errores\n"
   ]
  },
  {
   "cell_type": "code",
   "execution_count": null,
   "id": "2b75d03e",
   "metadata": {},
   "outputs": [],
   "source": [
    "import pandas as pd\n",
    "import numpy as np\n",
    "import re\n",
    "\n",
    "# Cargar el dataset desde carpeta raw\n",
    "df = pd.read_csv(\"../data/raw/Calidad_del_agua_del_Rio_Cauca_20250605.csv\", encoding=\"utf-8\")\n",
    "df.head()\n"
   ]
  },
  {
   "cell_type": "code",
   "execution_count": null,
   "id": "b423d54e",
   "metadata": {},
   "outputs": [],
   "source": [
    "# Convertir columna de fechas\n",
    "df['FECHA DE MUESTREO'] = pd.to_datetime(df['FECHA DE MUESTREO'], errors='coerce')\n"
   ]
  },
  {
   "cell_type": "code",
   "execution_count": null,
   "id": "5d84b5c6",
   "metadata": {},
   "outputs": [],
   "source": [
    "# Eliminar columnas sin datos\n",
    "df = df.dropna(axis=1, how='all')\n",
    "print(f\"Número de columnas restantes: {df.shape[1]}\")\n"
   ]
  },
  {
   "cell_type": "code",
   "execution_count": null,
   "id": "a05ba93c",
   "metadata": {},
   "outputs": [],
   "source": [
    "# Detectar columnas tipo object que podrían ser numéricas\n",
    "possible_numeric_cols = [col for col in df.select_dtypes(include='object').columns if col not in ['ESTACIONES']]\n",
    "\n",
    "# Función para limpiar valores\n",
    "def clean_numeric(value):\n",
    "    if pd.isnull(value):\n",
    "        return np.nan\n",
    "    if isinstance(value, str):\n",
    "        value = value.replace(',', '.')\n",
    "        value = re.sub(r'[<>*]', '', value)\n",
    "        value = re.sub(r'(\\d+(\\.\\d+)?)[*]10E(\\d+)', r'\\1E\\3', value)\n",
    "        try:\n",
    "            return float(value)\n",
    "        except ValueError:\n",
    "            return np.nan\n",
    "    return value\n",
    "\n",
    "# Aplicar limpieza a todas las columnas identificadas\n",
    "for col in possible_numeric_cols:\n",
    "    df[col] = df[col].apply(clean_numeric)\n"
   ]
  },
  {
   "cell_type": "code",
   "execution_count": null,
   "id": "6abad967",
   "metadata": {},
   "outputs": [],
   "source": [
    "# Guardar en carpeta cleaned\n",
    "import os\n",
    "os.makedirs(\"../data/cleaned\", exist_ok=True)\n",
    "df.to_csv(\"../data/cleaned/agua_rio_cauca_limpio.csv\", index=False)\n",
    "print(\"✅ Archivo limpio guardado correctamente.\")\n"
   ]
  }
 ],
 "metadata": {
  "language_info": {
   "name": "python"
  }
 },
 "nbformat": 4,
 "nbformat_minor": 5
}
