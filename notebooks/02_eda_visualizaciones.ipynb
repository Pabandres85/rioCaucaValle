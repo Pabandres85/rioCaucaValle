{
 "cells": [
  {
   "cell_type": "markdown",
   "id": "5b42d3bc",
   "metadata": {},
   "source": [
    "# 📊 Análisis Exploratorio - Calidad del Agua del Río Cauca\n",
    "\n",
    "Este notebook presenta un análisis exploratorio del dataset limpio. Se revisan las principales variables ambientales relacionadas con la calidad del agua del Río Cauca, buscando patrones, anomalías y relaciones entre variables.\n",
    "\n",
    "## Contenido:\n",
    "- Distribución de variables clave\n",
    "- Tendencias temporales\n",
    "- Comparación entre estaciones\n",
    "- Correlaciones\n"
   ]
  },
  {
   "cell_type": "code",
   "execution_count": null,
   "id": "102742cf",
   "metadata": {},
   "outputs": [],
   "source": [
    "import pandas as pd\n",
    "import matplotlib.pyplot as plt\n",
    "import seaborn as sns\n",
    "\n",
    "# Configuración visual\n",
    "sns.set(style=\"whitegrid\")\n",
    "\n",
    "# Cargar dataset limpio\n",
    "df = pd.read_csv(\"../data/cleaned/agua_rio_cauca_limpio.csv\", parse_dates=[\"FECHA DE MUESTREO\"])\n",
    "df.head()\n"
   ]
  },
  {
   "cell_type": "code",
   "execution_count": null,
   "id": "6636e830",
   "metadata": {},
   "outputs": [],
   "source": [
    "# Histograma de algunas variables clave\n",
    "variables = ['pH', 'OXIGENO DISUELTO (mg O2/l)', 'TURBIEDAD (UNT)', 'DEMANDA BIOQUIMICA DE OXIGENO (mg O2/l)']\n",
    "\n",
    "for var in variables:\n",
    "    plt.figure(figsize=(8, 4))\n",
    "    sns.histplot(df[var].dropna(), kde=True, bins=30)\n",
    "    plt.title(f\"Distribución de {var}\")\n",
    "    plt.xlabel(var)\n",
    "    plt.ylabel(\"Frecuencia\")\n",
    "    plt.tight_layout()\n",
    "    plt.show()\n"
   ]
  },
  {
   "cell_type": "code",
   "execution_count": null,
   "id": "df6a035c",
   "metadata": {},
   "outputs": [],
   "source": [
    "# Tendencia de oxígeno disuelto a lo largo del tiempo\n",
    "plt.figure(figsize=(10, 5))\n",
    "sns.lineplot(data=df.sort_values(\"FECHA DE MUESTREO\"), x=\"FECHA DE MUESTREO\", y=\"OXIGENO DISUELTO (mg O2/l)\")\n",
    "plt.title(\"Evolución del Oxígeno Disuelto a lo largo del tiempo\")\n",
    "plt.ylabel(\"mg O2/l\")\n",
    "plt.xlabel(\"Fecha de Muestreo\")\n",
    "plt.tight_layout()\n",
    "plt.show()\n"
   ]
  },
  {
   "cell_type": "code",
   "execution_count": null,
   "id": "c7f3fc5f",
   "metadata": {},
   "outputs": [],
   "source": [
    "# Boxplot por estación para comparar pH\n",
    "plt.figure(figsize=(12, 5))\n",
    "top_estaciones = df['ESTACIONES'].value_counts().nlargest(10).index\n",
    "sns.boxplot(data=df[df['ESTACIONES'].isin(top_estaciones)], x='ESTACIONES', y='pH')\n",
    "plt.xticks(rotation=45)\n",
    "plt.title(\"Distribución de pH por estación de muestreo\")\n",
    "plt.tight_layout()\n",
    "plt.show()\n"
   ]
  },
  {
   "cell_type": "code",
   "execution_count": null,
   "id": "5b8272db",
   "metadata": {},
   "outputs": [],
   "source": [
    "# Mapa de calor de correlaciones\n",
    "vars_corr = df.select_dtypes(include='float64').dropna(axis=1).corr()\n",
    "plt.figure(figsize=(14, 10))\n",
    "sns.heatmap(vars_corr, cmap='coolwarm', annot=False)\n",
    "plt.title(\"Mapa de calor de correlaciones entre variables numéricas\")\n",
    "plt.tight_layout()\n",
    "plt.show()\n"
   ]
  }
 ],
 "metadata": {},
 "nbformat": 4,
 "nbformat_minor": 5
}
