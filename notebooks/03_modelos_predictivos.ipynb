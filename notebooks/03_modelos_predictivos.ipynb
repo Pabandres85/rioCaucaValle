{
 "cells": [
  {
   "cell_type": "markdown",
   "id": "7236a336",
   "metadata": {},
   "source": [
    "# 🤖 Modelado Predictivo - Calidad del Agua del Río Cauca\n",
    "\n",
    "Este notebook explora técnicas de modelado predictivo aplicadas a variables clave de calidad del agua. En particular, se busca predecir el nivel de **oxígeno disuelto**, un indicador crítico de salud ecológica del río.\n",
    "\n",
    "## Contenido:\n",
    "- Selección de variables\n",
    "- Preparación del dataset\n",
    "- División entrenamiento/prueba\n",
    "- Entrenamiento de modelos de regresión\n",
    "- Evaluación de desempeño\n"
   ]
  },
  {
   "cell_type": "code",
   "execution_count": null,
   "id": "daf4debd",
   "metadata": {},
   "outputs": [],
   "source": [
    "import pandas as pd\n",
    "import numpy as np\n",
    "from sklearn.model_selection import train_test_split\n",
    "from sklearn.linear_model import LinearRegression\n",
    "from sklearn.ensemble import RandomForestRegressor\n",
    "from sklearn.metrics import mean_squared_error, r2_score\n",
    "import matplotlib.pyplot as plt\n",
    "import seaborn as sns\n",
    "\n",
    "# Cargar dataset limpio\n",
    "df = pd.read_csv(\"../data/cleaned/agua_rio_cauca_limpio.csv\", parse_dates=[\"FECHA DE MUESTREO\"])\n",
    "df = df.dropna(subset=[\"OXIGENO DISUELTO (mg O2/l)\"])  # Variable objetivo\n",
    "df.head()\n"
   ]
  },
  {
   "cell_type": "code",
   "execution_count": null,
   "id": "ab13810d",
   "metadata": {},
   "outputs": [],
   "source": [
    "# Selección de variables predictoras (puedes ajustar)\n",
    "features = [\n",
    "    'pH',\n",
    "    'TEMPERATURA (°C)',\n",
    "    'TURBIEDAD (UNT)',\n",
    "    'DEMANDA BIOQUIMICA DE OXIGENO (mg O2/l)',\n",
    "    'DUREZA TOTAL (mg CaCO3/l)',\n",
    "    'SOLIDOS DISUELTOS (mg SD/l)'\n",
    "]\n",
    "\n",
    "df_model = df[features + ['OXIGENO DISUELTO (mg O2/l)']].dropna()\n",
    "X = df_model[features]\n",
    "y = df_model['OXIGENO DISUELTO (mg O2/l)']\n"
   ]
  },
  {
   "cell_type": "code",
   "execution_count": null,
   "id": "6f51567d",
   "metadata": {},
   "outputs": [],
   "source": [
    "# División en conjuntos de entrenamiento y prueba\n",
    "X_train, X_test, y_train, y_test = train_test_split(\n",
    "    X, y, test_size=0.2, random_state=42\n",
    ")\n"
   ]
  },
  {
   "cell_type": "code",
   "execution_count": null,
   "id": "96dff2f6",
   "metadata": {},
   "outputs": [],
   "source": [
    "# Regresión lineal\n",
    "lr = LinearRegression()\n",
    "lr.fit(X_train, y_train)\n",
    "y_pred_lr = lr.predict(X_test)\n",
    "\n",
    "# Random Forest\n",
    "rf = RandomForestRegressor(random_state=42)\n",
    "rf.fit(X_train, y_train)\n",
    "y_pred_rf = rf.predict(X_test)\n"
   ]
  },
  {
   "cell_type": "code",
   "execution_count": null,
   "id": "7cdba06a",
   "metadata": {},
   "outputs": [],
   "source": [
    "def evaluar_modelo(nombre, y_true, y_pred):\n",
    "    print(f\"🔍 {nombre}\")\n",
    "    print(f\"R2 Score: {r2_score(y_true, y_pred):.4f}\")\n",
    "    print(f\"RMSE: {mean_squared_error(y_true, y_pred, squared=False):.4f}\")\n",
    "    print(\"-\" * 30)\n",
    "\n",
    "evaluar_modelo(\"Regresión Lineal\", y_test, y_pred_lr)\n",
    "evaluar_modelo(\"Random Forest\", y_test, y_pred_rf)\n"
   ]
  },
  {
   "cell_type": "code",
   "execution_count": null,
   "id": "f34bb8f1",
   "metadata": {},
   "outputs": [],
   "source": [
    "# Comparación de predicciones\n",
    "plt.figure(figsize=(8,4))\n",
    "plt.plot(y_test.values[:100], label=\"Real\", linewidth=2)\n",
    "plt.plot(y_pred_lr[:100], label=\"Lineal\", linestyle='--')\n",
    "plt.plot(y_pred_rf[:100], label=\"Random Forest\", linestyle=':')\n",
    "plt.title(\"Comparación de predicciones - Oxígeno Disuelto\")\n",
    "plt.legend()\n",
    "plt.tight_layout()\n",
    "plt.show()\n"
   ]
  }
 ],
 "metadata": {},
 "nbformat": 4,
 "nbformat_minor": 5
}
